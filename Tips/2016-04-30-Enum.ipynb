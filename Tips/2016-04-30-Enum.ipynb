{
 "cells": [
  {
   "cell_type": "markdown",
   "metadata": {},
   "source": [
    "## Python 中的枚举类型\n",
    "\n",
    "枚举类型可以看作是一种标签或是一系列常量的集合，通常用于表示某些特定的有限集合，例如星期、月份、状态等。Python 的原生类型（Built-in types）里并没有专门的枚举类型，但是我们可以通过很多方法来实现它，例如字典、类等："
   ]
  },
  {
   "cell_type": "code",
   "execution_count": 1,
   "metadata": {
    "collapsed": true
   },
   "outputs": [],
   "source": [
    "WEEKDAY = {\n",
    "    'MON': 1,\n",
    "    'TUS': 2,\n",
    "    'WEN': 3,\n",
    "    'THU': 4,\n",
    "    'FRI': 5\n",
    "}\n",
    "class Color:\n",
    "    RED   = 0\n",
    "    GREEN = 1\n",
    "    BLUE  = 2"
   ]
  },
  {
   "cell_type": "markdown",
   "metadata": {},
   "source": [
    "上面两种方法可以看做是简单的枚举类型的实现，如果只在局部范围内用到了这样的枚举变量是没有问题的，但问题在于它们都是可变的（mutable），也就是说可以在其它地方被修改从而影响其正常使用："
   ]
  },
  {
   "cell_type": "code",
   "execution_count": 2,
   "metadata": {
    "collapsed": false
   },
   "outputs": [
    {
     "name": "stdout",
     "output_type": "stream",
     "text": [
      "{'FRI': 5, 'TUS': 2, 'MON': 5, 'WEN': 3, 'THU': 4}\n"
     ]
    }
   ],
   "source": [
    "WEEKDAY['MON'] = WEEKDAY['FRI']\n",
    "print(WEEKDAY)"
   ]
  },
  {
   "cell_type": "markdown",
   "metadata": {},
   "source": [
    "通过类定义的枚举甚至可以实例化，变得不伦不类："
   ]
  },
  {
   "cell_type": "code",
   "execution_count": 3,
   "metadata": {
    "collapsed": false
   },
   "outputs": [
    {
     "name": "stdout",
     "output_type": "stream",
     "text": [
      "0\n",
      "2\n"
     ]
    }
   ],
   "source": [
    "c = Color()\n",
    "print(c.RED)\n",
    "Color.RED = 2\n",
    "print(c.RED)"
   ]
  },
  {
   "cell_type": "markdown",
   "metadata": {},
   "source": [
    "当然也可以使用不可变类型（immutable），例如元组，但是这样就失去了枚举类型的本意，将标签退化为无意义的变量："
   ]
  },
  {
   "cell_type": "code",
   "execution_count": 4,
   "metadata": {
    "collapsed": false
   },
   "outputs": [
    {
     "name": "stdout",
     "output_type": "stream",
     "text": [
      "R G B\n"
     ]
    }
   ],
   "source": [
    "COLOR = ('R', 'G', 'B')\n",
    "print(COLOR[0], COLOR[1], COLOR[2])"
   ]
  },
  {
   "cell_type": "markdown",
   "metadata": {},
   "source": [
    "为了提供更好的解决方案，Python 通过 [PEP 435](https://www.python.org/dev/peps/pep-0435) 在 3.4 版本中添加了 [enum](https://github.com/rainyear/cpython/blob/master/Lib/enum.py) 标准库，3.4 之前的版本也可以通过 `pip install enum` 下载兼容支持的库。`enum` 提供了 `Enum`/`IntEnum`/`unique` 三个工具，用法也非常简单，可以通过继承 `Enum`/`IntEnum` 定义枚举类型，其中 `IntEnum` 限定枚举成员必须为（或可以转化为）整数类型，而 `unique` 方法可以作为修饰器限定枚举成员的值不可重复："
   ]
  },
  {
   "cell_type": "code",
   "execution_count": 5,
   "metadata": {
    "collapsed": false
   },
   "outputs": [
    {
     "name": "stdout",
     "output_type": "stream",
     "text": [
      "duplicate values found in <enum 'WEEKDAY'>: FRI -> MON\n"
     ]
    }
   ],
   "source": [
    "from enum import Enum, IntEnum, unique\n",
    "\n",
    "try:\n",
    "    @unique\n",
    "    class WEEKDAY(Enum):\n",
    "        MON = 1\n",
    "        TUS = 2\n",
    "        WEN = 3\n",
    "        THU = 4\n",
    "        FRI = 1\n",
    "except ValueError as e:\n",
    "    print(e)"
   ]
  },
  {
   "cell_type": "code",
   "execution_count": 6,
   "metadata": {
    "collapsed": false
   },
   "outputs": [
    {
     "name": "stdout",
     "output_type": "stream",
     "text": [
      "invalid literal for int() with base 10: 'b'\n"
     ]
    }
   ],
   "source": [
    "try:\n",
    "    class Color(IntEnum):\n",
    "        RED   = 0\n",
    "        GREEN = 1\n",
    "        BLUE  = 'b'\n",
    "except ValueError as e:\n",
    "    print(e)"
   ]
  },
  {
   "cell_type": "markdown",
   "metadata": {},
   "source": [
    "更有趣的是 `Enum` 的成员均为单例（Singleton），并且不可实例化，不可更改："
   ]
  },
  {
   "cell_type": "code",
   "execution_count": 7,
   "metadata": {
    "collapsed": true
   },
   "outputs": [],
   "source": [
    "class Color(Enum):\n",
    "    R = 0\n",
    "    G = 1\n",
    "    B = 2"
   ]
  },
  {
   "cell_type": "code",
   "execution_count": 8,
   "metadata": {
    "collapsed": false
   },
   "outputs": [
    {
     "name": "stdout",
     "output_type": "stream",
     "text": [
      "Cannot reassign members.\n"
     ]
    }
   ],
   "source": [
    "try:\n",
    "    Color.R = 2\n",
    "except AttributeError as e:\n",
    "    print(e)"
   ]
  },
  {
   "cell_type": "markdown",
   "metadata": {},
   "source": [
    "虽然不可实例化，但可以将枚举成员赋值给变量："
   ]
  },
  {
   "cell_type": "code",
   "execution_count": 9,
   "metadata": {
    "collapsed": false
   },
   "outputs": [
    {
     "name": "stdout",
     "output_type": "stream",
     "text": [
      "Color.R Color.G Color.B\n"
     ]
    }
   ],
   "source": [
    "red = Color(0)\n",
    "green = Color(1)\n",
    "blue = Color(2)\n",
    "print(red, green, blue)"
   ]
  },
  {
   "cell_type": "markdown",
   "metadata": {},
   "source": [
    "也可以进行比较判断："
   ]
  },
  {
   "cell_type": "code",
   "execution_count": 10,
   "metadata": {
    "collapsed": false
   },
   "outputs": [
    {
     "name": "stdout",
     "output_type": "stream",
     "text": [
      "True\n",
      "True\n",
      "False\n",
      "True\n",
      "False\n"
     ]
    }
   ],
   "source": [
    "print(red is Color.R)\n",
    "print(red == Color.R)\n",
    "print(red is blue)\n",
    "print(green != Color.B)\n",
    "print(red == 0) # 不等于任何非本枚举类的值"
   ]
  },
  {
   "cell_type": "markdown",
   "metadata": {},
   "source": [
    "最后一点，由于枚举成员本身也是枚举类型，因此也可以通过枚举成员找到其它成员："
   ]
  },
  {
   "cell_type": "code",
   "execution_count": 11,
   "metadata": {
    "collapsed": false
   },
   "outputs": [
    {
     "name": "stdout",
     "output_type": "stream",
     "text": [
      "Color.B\n",
      "Color.R\n"
     ]
    }
   ],
   "source": [
    "print(red.B)\n",
    "print(red.B.G.R)"
   ]
  },
  {
   "cell_type": "markdown",
   "metadata": {},
   "source": [
    "但是要谨慎使用这一特性，因为可能与成员原有的命名空间中的名称相冲突："
   ]
  },
  {
   "cell_type": "code",
   "execution_count": 12,
   "metadata": {
    "collapsed": false
   },
   "outputs": [
    {
     "name": "stdout",
     "output_type": "stream",
     "text": [
      "R : 0\n",
      "NAME value\n"
     ]
    }
   ],
   "source": [
    "print(red.name, ':', red.value)\n",
    "\n",
    "class Attr(Enum):\n",
    "    name  = 'NAME'\n",
    "    value = 'VALUE'\n",
    "print(Attr.name.value, Attr.value.name)"
   ]
  },
  {
   "cell_type": "markdown",
   "metadata": {},
   "source": [
    "### 总结\n",
    "\n",
    "`enum` 模块的用法很简单，功能也很明确，但是其实现方式却非常值得学习。如果你想更深入了解更多 Python 中关于 `Class` 和 `Metaclass` 的黑魔法，又不知道如何入手，那么不妨阅读一下 `enum` 的源码，或者关注接下来后面几篇的内容！"
   ]
  }
 ],
 "metadata": {
  "kernelspec": {
   "display_name": "Python 3",
   "language": "python",
   "name": "python3"
  },
  "language_info": {
   "codemirror_mode": {
    "name": "ipython",
    "version": 3
   },
   "file_extension": ".py",
   "mimetype": "text/x-python",
   "name": "python",
   "nbconvert_exporter": "python",
   "pygments_lexer": "ipython3",
   "version": "3.5.0"
  }
 },
 "nbformat": 4,
 "nbformat_minor": 0
}
