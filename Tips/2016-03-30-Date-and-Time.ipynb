{
 "cells": [
  {
   "cell_type": "markdown",
   "metadata": {},
   "source": [
    "### Python 时间与日期\n",
    "\n",
    "时间和日期可能涉及到不同的时区、格式，同时又经常需要作为时间戳保存，有时候还需要进行一些加减操作，因此处理起来通常会因为方法太多而无从下手。Python 中与时间和日期相关的标准库有3个：`time`、`datetime` 和 `calendar`。其中 `time` 模块更偏向于系统相关的时间数据，最常用的可能就是获取当前时间的秒数 `time.time()`，此外该模块中的很多方法都是与 C 语言中的时间方法相同的，如果习惯了使用 C 的人可以很方便地继续使用这些方法。`calendar` 则是在时间与日期之上，它的作用真的就是“日历”："
   ]
  },
  {
   "cell_type": "code",
   "execution_count": 1,
   "metadata": {
    "collapsed": false
   },
   "outputs": [
    {
     "name": "stdout",
     "output_type": "stream",
     "text": [
      "     March 2016\n",
      "Su Mo Tu We Th Fr Sa\n",
      "       1  2  3  4  5\n",
      " 6  7  8  9 10 11 12\n",
      "13 14 15 16 17 18 19\n",
      "20 21 22 23 24 25 26\n",
      "27 28 29 30 31\n",
      " "
     ]
    }
   ],
   "source": [
    "from calendar import TextCalendar, HTMLCalendar\n",
    "\n",
    "tc = TextCalendar(firstweekday=6)\n",
    "tc.prmonth(2016, 3)"
   ]
  },
  {
   "cell_type": "markdown",
   "metadata": {},
   "source": [
    "`datetime` 模块解决了绝大部分时间与日期相关的操作问题，其中包含了：\n",
    "\n",
    "1. `timedelta` 与时间计算相关的类；\n",
    "3. `time` 时间相关的类；\n",
    "4. `date` 日期相关的类；\n",
    "5. `datetime` 时间和日期；\n",
    "2. `tzinfo`/`timezone` 与时区相关的类（`timezone` 是 Python 3.2 之后新加入的）；\n",
    "\n",
    "它们的继承关系如下："
   ]
  },
  {
   "cell_type": "code",
   "execution_count": 2,
   "metadata": {
    "collapsed": false
   },
   "outputs": [],
   "source": [
    "\"\"\"\n",
    "object\n",
    "    timedelta\n",
    "    tzinfo\n",
    "        timezone\n",
    "    time\n",
    "    date\n",
    "        datetime\n",
    "\"\"\"\n",
    "pass"
   ]
  },
  {
   "cell_type": "code",
   "execution_count": 3,
   "metadata": {
    "collapsed": true
   },
   "outputs": [],
   "source": [
    "import time as _time\n",
    "from datetime import date, time, datetime"
   ]
  },
  {
   "cell_type": "markdown",
   "metadata": {},
   "source": [
    "### Date\n",
    "\n",
    "`date` 由年、月、日组成，有下面几种方式创建一个 `date` 对象（`strptime` 是通用方法，将在后面介绍）："
   ]
  },
  {
   "cell_type": "code",
   "execution_count": 4,
   "metadata": {
    "collapsed": false
   },
   "outputs": [
    {
     "name": "stdout",
     "output_type": "stream",
     "text": [
      "2016-03-29\n",
      "2016-03-30\n",
      "2016-03-30\n"
     ]
    }
   ],
   "source": [
    "d1 = date(2016, 3, 29)\n",
    "d2 = date.today()\n",
    "d3 = date.fromtimestamp(_time.time())\n",
    "\n",
    "print(d1)\n",
    "print(d2)\n",
    "print(d3)"
   ]
  },
  {
   "cell_type": "markdown",
   "metadata": {},
   "source": [
    "获得 `date` 对象之后，可以分别获取年、月、日等属性（`strftime`也是通用的格式化方法，将在后面介绍）："
   ]
  },
  {
   "cell_type": "code",
   "execution_count": 5,
   "metadata": {
    "collapsed": false
   },
   "outputs": [
    {
     "name": "stdout",
     "output_type": "stream",
     "text": [
      "30/3/2016\n",
      "time.struct_time: (2016, 3, 30, 0, 0, 0, 2, 90, -1)\n",
      "Monday is 0: 2\n",
      "Monday is 1: 3\n"
     ]
    }
   ],
   "source": [
    "print(\"{}/{}/{}\".format(d2.day, d2.month, d2.year))\n",
    "\n",
    "# date.timetuple() 返回 time 模块中的 struct_time 结构，可以直接转换成 Tuple\n",
    "print(\"time.struct_time: {}\".format(tuple(d2.timetuple()))) \n",
    "\n",
    "# 星期数\n",
    "print(\"Monday is 0: {}\\nMonday is 1: {}\".format(d2.weekday(), d2.isoweekday()))"
   ]
  },
  {
   "cell_type": "markdown",
   "metadata": {},
   "source": [
    "### Time\n",
    "\n",
    "`datetime.time` 由小时、分钟、秒、微秒（百万分之一秒）组成，和 `date` 相似的创建方式，但是由于和 `time` 模块有所重叠，因此并不经常直接用于创建时间对象，如果需要可以从 `datetime.datetime` 分割出来："
   ]
  },
  {
   "cell_type": "code",
   "execution_count": 6,
   "metadata": {
    "collapsed": false
   },
   "outputs": [
    {
     "name": "stdout",
     "output_type": "stream",
     "text": [
      "22:57:06.000006\n",
      "23:56:12.495372\n"
     ]
    }
   ],
   "source": [
    "t1 = time(22, 57, 6, 6)\n",
    "t2 = datetime.now().time()\n",
    "print(t1)\n",
    "print(t2)"
   ]
  },
  {
   "cell_type": "markdown",
   "metadata": {},
   "source": [
    "### datetime.datetime\n",
    "\n",
    "`datetime.datetime` 继承自 `date`，同时将精度精确到时间，创建方式有："
   ]
  },
  {
   "cell_type": "code",
   "execution_count": 7,
   "metadata": {
    "collapsed": false
   },
   "outputs": [
    {
     "name": "stdout",
     "output_type": "stream",
     "text": [
      "2016-03-30 22:02:00\n",
      "2016-03-30 23:56:13.800861\n",
      "2016-03-30 23:56:13.800924\n"
     ]
    }
   ],
   "source": [
    "dt1 = datetime(2016, 3, 30, 22, 2)\n",
    "dt2 = datetime.now()\n",
    "dt3 = datetime.fromtimestamp(_time.time())\n",
    "print(dt1)\n",
    "print(dt2)\n",
    "print(dt3)"
   ]
  },
  {
   "cell_type": "markdown",
   "metadata": {},
   "source": [
    "从 `datetime.datetime` 中我们可以获取 `date` 和 `time`，同样也可以通过 `date` 和 `time` 组合得来："
   ]
  },
  {
   "cell_type": "code",
   "execution_count": 8,
   "metadata": {
    "collapsed": false
   },
   "outputs": [
    {
     "name": "stdout",
     "output_type": "stream",
     "text": [
      "Date: 2016-03-30\n",
      "Time: 23:56:15.078349\n",
      "Datetime: 2016-03-30 02:03:03\n"
     ]
    }
   ],
   "source": [
    "dt = datetime.now()\n",
    "dt = datetime.fromtimestamp(_time.time())\n",
    "\n",
    "d = dt.date()\n",
    "t = dt.time()\n",
    "\n",
    "print(\"Date: {}\\nTime: {}\".format(d, t))\n",
    "\n",
    "print(\"Datetime: {}\".format(datetime.combine(date.today(), time(2,3,3))))"
   ]
  },
  {
   "cell_type": "markdown",
   "metadata": {},
   "source": [
    "### 时间与日期的运算\n",
    "\n",
    "如果把 `date`、`time` 和 `datetime` 看作是时间轴上的点，那么 `timedelta` 就是时间轴上的线段（时间段，时间间隔）。"
   ]
  },
  {
   "cell_type": "code",
   "execution_count": 9,
   "metadata": {
    "collapsed": false
   },
   "outputs": [
    {
     "name": "stdout",
     "output_type": "stream",
     "text": [
      "Time duration: 9 days, 3:04:00\n"
     ]
    }
   ],
   "source": [
    "from datetime import timedelta\n",
    "\n",
    "td = timedelta(weeks=1, days=2, hours=3,minutes=4, seconds=0, microseconds=0, milliseconds=0)\n",
    "\n",
    "print(\"Time duration: {}\".format(td))"
   ]
  },
  {
   "cell_type": "markdown",
   "metadata": {},
   "source": [
    "既然是时间段，那就可以通过两个时间点相减得到："
   ]
  },
  {
   "cell_type": "code",
   "execution_count": 10,
   "metadata": {
    "collapsed": false
   },
   "outputs": [
    {
     "name": "stdout",
     "output_type": "stream",
     "text": [
      "86178s of Today\n",
      "366 days, 0:00:00\n",
      "unsupported operand type(s) for -: 'datetime.time' and 'datetime.time'\n"
     ]
    }
   ],
   "source": [
    "current = datetime.now()\n",
    "today = datetime.combine(date.today(), time(0,0,0))\n",
    "\n",
    "td = current - today\n",
    "print(\"{:.0f}s of Today\".format(td.total_seconds()))\n",
    "\n",
    "today = date.today()\n",
    "lastyear = today.replace(year=today.year-1)\n",
    "print(today - lastyear)\n",
    "\n",
    "t1 = current.time()\n",
    "t2 = time(0, 0, 0)\n",
    "try:\n",
    "    print(t1 - t2)\n",
    "except TypeError as err:\n",
    "    print(err)"
   ]
  },
  {
   "cell_type": "markdown",
   "metadata": {},
   "source": [
    "时间段还支持一些算术`+`、`-`、`*`、`/`、`//`、`%`、`abs` 等，这里就不一一举例了。\n",
    "\n",
    "### strftime & strptime\n",
    "\n",
    "`strftime`（String from Time）和 `strptime`（String parsed Time）分别是字符串和时间日期之间的转换方法，只不过遵循一定的格式："
   ]
  },
  {
   "cell_type": "code",
   "execution_count": 11,
   "metadata": {
    "collapsed": false
   },
   "outputs": [
    {
     "name": "stdout",
     "output_type": "stream",
     "text": [
      "format -> strftime() style string.\n",
      "string, format -> new datetime parsed from a string (like time.strptime()).\n"
     ]
    }
   ],
   "source": [
    "print(datetime.strftime.__doc__)\n",
    "print(datetime.strptime.__doc__)"
   ]
  },
  {
   "cell_type": "code",
   "execution_count": 12,
   "metadata": {
    "collapsed": false
   },
   "outputs": [
    {
     "name": "stdout",
     "output_type": "stream",
     "text": [
      "16-03-30\n",
      "2016-03-30 00:00:00\n"
     ]
    }
   ],
   "source": [
    "fmat = \"%y-%m-%d\"\n",
    "dt = datetime.now()\n",
    "\n",
    "s = dt.strftime(fmat)\n",
    "print(s)\n",
    "print(datetime.strptime(s, fmat))"
   ]
  },
  {
   "cell_type": "markdown",
   "metadata": {},
   "source": [
    "可以通过 [strftime() and strptime() Behavior](https://docs.python.org/3/library/datetime.html#strftime-and-strptime-behavior) 查看转换格式表，Python 使用的格式与 `C standard(1989)`是一致的，不过需要注意的是，所有格式都是 `zero-padded`，也就是自动补零的，如果想要去掉补零，可以用 `%-m` 等方式，但据说在 Windows 系统上是不能用的`:D`"
   ]
  },
  {
   "cell_type": "code",
   "execution_count": 13,
   "metadata": {
    "collapsed": false
   },
   "outputs": [
    {
     "name": "stdout",
     "output_type": "stream",
     "text": [
      "16/3/8\n",
      "16/3/8\n"
     ]
    }
   ],
   "source": [
    "fmat = \"%y/%-m/%-d\"\n",
    "dt = datetime.now()\n",
    "dt = dt - timedelta(days=22)\n",
    "\n",
    "print(dt.strftime(fmat))\n",
    "\n",
    "# 当然也可以用\n",
    "print(\"{}/{}/{}\".format(dt.strftime(\"%y\"), dt.month, dt.day))"
   ]
  }
 ],
 "metadata": {
  "kernelspec": {
   "display_name": "Python 3",
   "language": "python",
   "name": "python3"
  },
  "language_info": {
   "codemirror_mode": {
    "name": "ipython",
    "version": 3
   },
   "file_extension": ".py",
   "mimetype": "text/x-python",
   "name": "python",
   "nbconvert_exporter": "python",
   "pygments_lexer": "ipython3",
   "version": "3.5.0"
  }
 },
 "nbformat": 4,
 "nbformat_minor": 0
}
