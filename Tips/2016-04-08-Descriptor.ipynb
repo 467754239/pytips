{
 "cells": [
  {
   "cell_type": "markdown",
   "metadata": {},
   "source": [
    "### Python 描述符\n",
    "\n",
    "> 本篇主要关于三个常用内置方法：`property()`，`staticmethod()`，`classmethod()`\n",
    "\n",
    "在 Python 语言的设计中，通常的语法操作最终都会转化为方法调用，例如："
   ]
  },
  {
   "cell_type": "code",
   "execution_count": 1,
   "metadata": {
    "collapsed": false
   },
   "outputs": [
    {
     "name": "stdout",
     "output_type": "stream",
     "text": [
      "a + b = 3\n",
      "a.__add__(b) = 3\n"
     ]
    }
   ],
   "source": [
    "a = 1\n",
    "b = 2\n",
    "print(\"a + b = {}\".format(a+b))\n",
    "\n",
    "# 相当于\n",
    "print(\"a.__add__(b) = {}\".format(a.__add__(b)))"
   ]
  },
  {
   "cell_type": "markdown",
   "metadata": {},
   "source": [
    "Python 中的**描述符（Descriptor）**就是将对象属性的获取、赋值以及删除等行为转换为方法调用的协议："
   ]
  },
  {
   "cell_type": "markdown",
   "metadata": {},
   "source": [
    "```py\n",
    "descr.__get__(self, obj, type=None) --> value\n",
    "\n",
    "descr.__set__(self, obj, value) --> None\n",
    "\n",
    "descr.__delete__(self, obj) --> None\n",
    "```"
   ]
  },
  {
   "cell_type": "markdown",
   "metadata": {},
   "source": [
    "例如我们要获取一个对象的属性，可以通过`o.x`的方式取得："
   ]
  },
  {
   "cell_type": "code",
   "execution_count": 2,
   "metadata": {
    "collapsed": false
   },
   "outputs": [
    {
     "name": "stdout",
     "output_type": "stream",
     "text": [
      "Class::Int\n"
     ]
    }
   ],
   "source": [
    "class Int:\n",
    "    ctype = \"Class::Int\"\n",
    "    def __init__(self, val):\n",
    "        self._val = val\n",
    "        \n",
    "a = Int(1)\n",
    "print(a.ctype)"
   ]
  },
  {
   "cell_type": "markdown",
   "metadata": {},
   "source": [
    "而通过`.`的方式寻找属性的值实际上调用了`object.__getattribute__(self, name)`方法："
   ]
  },
  {
   "cell_type": "code",
   "execution_count": 3,
   "metadata": {
    "collapsed": false
   },
   "outputs": [
    {
     "name": "stdout",
     "output_type": "stream",
     "text": [
      "👿 doesn't want to give `ctype' to you!\n",
      "🐍\n"
     ]
    }
   ],
   "source": [
    "class Int:\n",
    "    ctype = \"Class::Int\"\n",
    "    def __init__(self, val):\n",
    "        self._val = val\n",
    "    def __getattribute__(self, name):\n",
    "        print(\"👿 doesn't want to give `{}' to you!\".format(name))\n",
    "        return \"🐍\"\n",
    "a = Int(2)\n",
    "print(a.ctype)"
   ]
  },
  {
   "cell_type": "markdown",
   "metadata": {},
   "source": [
    "而这里的`__getattribute__(self, name)`方法实际上就是将`.`的属性获取方法转化为描述符协议定义的`descr.__get__(self, key)`："
   ]
  },
  {
   "cell_type": "code",
   "execution_count": 4,
   "metadata": {
    "collapsed": false
   },
   "outputs": [
    {
     "name": "stdout",
     "output_type": "stream",
     "text": [
      "You can __get__ anything from here!\n",
      "Class::Int\n"
     ]
    }
   ],
   "source": [
    "class Str:\n",
    "    def __init__(self, val):\n",
    "        self._val = val\n",
    "    def __get__(self, name, ctype=None):\n",
    "        print(\"You can __get__ anything from here!\")\n",
    "        return self._val\n",
    "class Int:\n",
    "    ctype = Str(\"Class::Int\")\n",
    "    def __init__(self, val):\n",
    "        self._val = val\n",
    "    def __getattribute__(self, name):\n",
    "        return type(self).__dict__[name].__get__(None, type(self))\n",
    "a = Int(2)\n",
    "print(a.ctype)"
   ]
  },
  {
   "cell_type": "markdown",
   "metadata": {},
   "source": [
    "这里的 `a.ctype = (Int.__dict__['ctype']).__get__(None, Int)`，即通过描述符的方式获取了 `ctype` 属性的值。同样的道理，你也可以通过 `descr.__set__(self, obj, val)` 设置属性的值："
   ]
  },
  {
   "cell_type": "code",
   "execution_count": 5,
   "metadata": {
    "collapsed": false
   },
   "outputs": [
    {
     "name": "stdout",
     "output_type": "stream",
     "text": [
      "You can __get__ anything from here!\n",
      "Class::Int\n",
      "You can __set__ anything to me!\n",
      "You can __get__ anything from here!\n",
      "Class::Float\n"
     ]
    }
   ],
   "source": [
    "class Str:\n",
    "    def __init__(self, val):\n",
    "        self._val = val\n",
    "    def __get__(self, name, ctype=None):\n",
    "        print(\"You can __get__ anything from here!\")\n",
    "        return self._val\n",
    "    def __set__(self, name, val):\n",
    "        print(\"You can __set__ anything to me!\")\n",
    "        self._val = val\n",
    "class Int:\n",
    "    ctype = Str(\"Class::Int\")\n",
    "    def __init__(self, val):\n",
    "        self._val = val\n",
    "a = Int(3)\n",
    "print(a.ctype)\n",
    "a.ctype = \"Class::Float\"\n",
    "print(a.ctype)"
   ]
  },
  {
   "cell_type": "markdown",
   "metadata": {},
   "source": [
    "将这些取值、赋值的操作转换为方法调用让我们有办法在做这些操作的过程中插入一些小动作，这么好用的东西自然是已加入豪华内置函数阵容，正是我们常见的\n",
    "\n",
    "- `property()`\n",
    "- `classmethod()`\n",
    "- `staticmethod()`\n",
    "\n"
   ]
  },
  {
   "cell_type": "markdown",
   "metadata": {},
   "source": [
    "**property**\n",
    "\n",
    "`property(fget=None, fset=None, fdel=None, doc=None)` 方法简化了上面的操作："
   ]
  },
  {
   "cell_type": "code",
   "execution_count": 6,
   "metadata": {
    "collapsed": false
   },
   "outputs": [
    {
     "name": "stdout",
     "output_type": "stream",
     "text": [
      "INFO: You can get `ctype`\n",
      "None\n",
      "INFO: You're setting `ctype` = Class::Int\n",
      "INFO: You can get `ctype`\n",
      "Class::Int\n"
     ]
    }
   ],
   "source": [
    "class Int:\n",
    "    def __init__(self, val):\n",
    "        self._val = val\n",
    "        self._ctype = None\n",
    "        \n",
    "    def get_ctype(self):\n",
    "        print(\"INFO: You can get `ctype`\")\n",
    "        return self._ctype\n",
    "    def set_ctype(self, val):\n",
    "        print(\"INFO: You're setting `ctype` =\", val)\n",
    "        self._ctype=val\n",
    "    ctype = property(fget=get_ctype, fset=set_ctype, doc=\"Property `ctype`\")\n",
    "    \n",
    "a = Int(4)\n",
    "print(a.ctype)\n",
    "a.ctype = \"Class::Int\"\n",
    "print(a.ctype)"
   ]
  },
  {
   "cell_type": "markdown",
   "metadata": {},
   "source": [
    "显然，更方便一些的用法是将 `property` 当做修饰器："
   ]
  },
  {
   "cell_type": "code",
   "execution_count": 7,
   "metadata": {
    "collapsed": false
   },
   "outputs": [
    {
     "name": "stdout",
     "output_type": "stream",
     "text": [
      "INFO: You can get `ctype` from me!\n",
      "None\n",
      "INFO: You're setting `ctype` = Class::Int\n",
      "INFO: You can get `ctype` from me!\n",
      "Class::Int\n"
     ]
    }
   ],
   "source": [
    "class Int:\n",
    "    _ctype = None\n",
    "    def __init__(self, val):\n",
    "        self._val = val\n",
    "    @property\n",
    "    def ctype(self):\n",
    "        print(\"INFO: You can get `ctype` from me!\")\n",
    "        return self._ctype\n",
    "    @ctype.setter\n",
    "    def ctype(self, val):\n",
    "        print(\"INFO: You're setting `ctype` =\", val)\n",
    "        self._ctype = val\n",
    "a = Int(5)\n",
    "print(a.ctype)\n",
    "a.ctype = \"Class::Int\"\n",
    "print(a.ctype)"
   ]
  },
  {
   "cell_type": "markdown",
   "metadata": {},
   "source": [
    "**staticmethod & classmethod**\n",
    "\n",
    "顾名思义，`property` 是关于属性的全部操作，如果是要获取类中的方法，则需要用到 `staticmethod` 和 `classmethod`。顾名思义，`staticmethod` 将方法变成静态方法，即类和实例都可以访问，如果不用 `staticmethod` 我们可以用下面这种别扭的方法实现："
   ]
  },
  {
   "cell_type": "code",
   "execution_count": 8,
   "metadata": {
    "collapsed": false
   },
   "outputs": [
    {
     "name": "stdout",
     "output_type": "stream",
     "text": [
      "INFO: You can get `ctype` from here!\n",
      "Class::Int\n",
      "INFO: You can get `ctype` from here!\n",
      "Class::Int\n",
      "INFO: You can get `ctype` from here!\n",
      "Class::StaticInt\n",
      "INFO: You can get `ctype` from here!\n",
      "Class::StaticInt\n"
     ]
    }
   ],
   "source": [
    "class Int:\n",
    "    def __init__(self, val):\n",
    "        self._val = val\n",
    "    def _get_ctype(self=None):\n",
    "        print(\"INFO: You can get `ctype` from here!\")\n",
    "        return \"Class::Int\"\n",
    "    \n",
    "    @staticmethod\n",
    "    def get_ctype():\n",
    "        print(\"INFO: You can get `ctype` from here!\")\n",
    "        return \"Class::StaticInt\"       \n",
    "    \n",
    "a = Int(6)\n",
    "print(a._get_ctype())\n",
    "print(Int._get_ctype())\n",
    "\n",
    "print(a.get_ctype())\n",
    "print(Int.get_ctype())"
   ]
  },
  {
   "cell_type": "markdown",
   "metadata": {},
   "source": [
    "可以看到，静态方法与类和实例无关，也就不再（不能）需要 `self` 关键词；与之相反，当我们需要在方法中保留类（而非实例）的引用时，则需要用 `classmethod`："
   ]
  },
  {
   "cell_type": "code",
   "execution_count": 9,
   "metadata": {
    "collapsed": false
   },
   "outputs": [
    {
     "name": "stdout",
     "output_type": "stream",
     "text": [
      "Int.ctype = Class::Int\n",
      "Int.ctype = Class::Float\n",
      "Class::Float\n"
     ]
    }
   ],
   "source": [
    "class Int:\n",
    "    _ctype = \"\"\n",
    "    def __init__(self, val):\n",
    "        self._val = val\n",
    "        \n",
    "    @classmethod\n",
    "    def set_ctype(klass, t):\n",
    "        klass._ctype = t\n",
    "        return \"{}.ctype = {}\".format(klass.__name__, t)\n",
    "a = Int(7)\n",
    "print(a.set_ctype(\"Class::Int\"))\n",
    "print(Int.set_ctype(\"Class::Float\"))\n",
    "b = Int(8)\n",
    "print(b._ctype)"
   ]
  },
  {
   "cell_type": "markdown",
   "metadata": {},
   "source": [
    "### 总结\n",
    "\n",
    "Python 的描述符给出一种通过方法调用来实现属性（方法）获取、赋值等操作的规则，通过这一规则可以方便我们深入程序内部并实施操控，因此 `property/staticmethod/classmethod` 在 Python 是通过底层（如 CPython 中的 C）实现的，如果想要进一步深入了解其实现原理，可以访问参考链接的教程，其中包括了这三个内置方法的 Python 实现版本，我也把它们 copy 过来方便查看。"
   ]
  },
  {
   "cell_type": "markdown",
   "metadata": {},
   "source": [
    "### 参考\n",
    "\n",
    "1. [Descriptor HowTo Guide](https://docs.python.org/3/howto/descriptor.html?highlight=descriptors#static-methods-and-class-methods)"
   ]
  },
  {
   "cell_type": "code",
   "execution_count": 10,
   "metadata": {
    "collapsed": false
   },
   "outputs": [],
   "source": [
    "class Property(object):\n",
    "    \"Emulate PyProperty_Type() in Objects/descrobject.c\"\n",
    "\n",
    "    def __init__(self, fget=None, fset=None, fdel=None, doc=None):\n",
    "        self.fget = fget\n",
    "        self.fset = fset\n",
    "        self.fdel = fdel\n",
    "        if doc is None and fget is not None:\n",
    "            doc = fget.__doc__\n",
    "        self.__doc__ = doc\n",
    "\n",
    "    def __get__(self, obj, objtype=None):\n",
    "        if obj is None:\n",
    "            return self\n",
    "        if self.fget is None:\n",
    "            raise AttributeError(\"unreadable attribute\")\n",
    "        return self.fget(obj)\n",
    "\n",
    "    def __set__(self, obj, value):\n",
    "        if self.fset is None:\n",
    "            raise AttributeError(\"can't set attribute\")\n",
    "        self.fset(obj, value)\n",
    "\n",
    "    def __delete__(self, obj):\n",
    "        if self.fdel is None:\n",
    "            raise AttributeError(\"can't delete attribute\")\n",
    "        self.fdel(obj)\n",
    "\n",
    "    def getter(self, fget):\n",
    "        return type(self)(fget, self.fset, self.fdel, self.__doc__)\n",
    "\n",
    "    def setter(self, fset):\n",
    "        return type(self)(self.fget, fset, self.fdel, self.__doc__)\n",
    "\n",
    "    def deleter(self, fdel):\n",
    "        return type(self)(self.fget, self.fset, fdel, self.__doc__)\n",
    "\n",
    "class StaticMethod(object):\n",
    "    \"Emulate PyStaticMethod_Type() in Objects/funcobject.c\"\n",
    "\n",
    "    def __init__(self, f):\n",
    "        self.f = f\n",
    "        \n",
    "    def __get__(self, obj, objtype=None):\n",
    "        return self.f\n",
    "\n",
    "class ClassMethod(object):\n",
    "    \"Emulate PyClassMethod_Type() in Objects/funcobject.c\"\n",
    "    \n",
    "    def __init__(self, f):\n",
    "        self.f = f\n",
    "\n",
    "    def __get__(self, obj, klass=None):\n",
    "        if klass is None:\n",
    "            klass = type(obj)\n",
    "        def newfunc(*args):\n",
    "            return self.f(klass, *args)\n",
    "        return newfunc"
   ]
  }
 ],
 "metadata": {
  "kernelspec": {
   "display_name": "Python 3",
   "language": "python",
   "name": "python3"
  },
  "language_info": {
   "codemirror_mode": {
    "name": "ipython",
    "version": 3
   },
   "file_extension": ".py",
   "mimetype": "text/x-python",
   "name": "python",
   "nbconvert_exporter": "python",
   "pygments_lexer": "ipython3",
   "version": "3.5.0"
  }
 },
 "nbformat": 4,
 "nbformat_minor": 0
}
