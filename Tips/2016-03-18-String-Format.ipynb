{
 "cells": [
  {
   "cell_type": "markdown",
   "metadata": {},
   "source": [
    "## Python 字符串的格式化\n",
    "\n",
    "相信很多人在格式化字符串的时候都用`\"%s\" % v`的语法，[PEP 3101](https://www.python.org/dev/peps/pep-3101/) 提出一种更先进的格式化方法 `str.format()` 并成为 Python 3 的标准用来替换旧的 `%s` 格式化语法，CPython 从 2.6 开始已经实现了这一方法（其它解释器未考证）。\n",
    "\n",
    "### `format()`\n",
    "\n",
    "新的 `format()` 方法其实更像是一个简略版的模板引起（Template Engine），功能非常丰富，官方文档对其语法的描述如下："
   ]
  },
  {
   "cell_type": "code",
   "execution_count": 1,
   "metadata": {
    "collapsed": false
   },
   "outputs": [],
   "source": [
    "\"\"\"\n",
    "replacement_field ::=  \"{\" [field_name] [\"!\" conversion] [\":\" format_spec] \"}\"\n",
    "field_name        ::=  arg_name (\".\" attribute_name | \"[\" element_index \"]\")*\n",
    "arg_name          ::=  [identifier | integer]\n",
    "attribute_name    ::=  identifier\n",
    "element_index     ::=  integer | index_string\n",
    "index_string      ::=  <any source character except \"]\"> +\n",
    "conversion        ::=  \"r\" | \"s\" | \"a\"\n",
    "format_spec       ::=  <described in the next section>\n",
    "\"\"\"\n",
    "pass # Donot output"
   ]
  },
  {
   "cell_type": "markdown",
   "metadata": {},
   "source": [
    "我将其准换成[铁路图](https://en.wikipedia.org/wiki/Syntax_diagram)的形式，（可能）更直观一些：\n",
    "\n",
    "![replacement_field.jpg](http://7xiijd.com1.z0.glb.clouddn.com/replacement_field.jpg)"
   ]
  },
  {
   "cell_type": "markdown",
   "metadata": {},
   "source": [
    "模板中替换变量用 `{}` 包围，且由 `:` 分为两部分，其中后半部分 `format_spec` 在后面会单独讨论。前半部分有三种用法：\n",
    "\n",
    "1. 空\n",
    "2. 代表位置的数字\n",
    "3. 代表keyword的标识符\n",
    "\n",
    "这与函数调用的参数类别是一致的："
   ]
  },
  {
   "cell_type": "code",
   "execution_count": 2,
   "metadata": {
    "collapsed": false
   },
   "outputs": [
    {
     "name": "stdout",
     "output_type": "stream",
     "text": [
      "Hello World\n",
      "Hello World\n",
      "Hello World\n",
      "HeH\n"
     ]
    }
   ],
   "source": [
    "print(\"{} {}\".format(\"Hello\", \"World\"))\n",
    "# is equal to...\n",
    "print(\"{0} {1}\".format(\"Hello\", \"World\"))\n",
    "print(\"{hello} {world}\".format(hello=\"Hello\", world=\"World\"))\n",
    "\n",
    "print(\"{0}{1}{0}\".format(\"H\", \"e\"))"
   ]
  },
  {
   "cell_type": "markdown",
   "metadata": {},
   "source": [
    "除此之外，就像在[0x05 函数参数与解包](https://github.com/rainyear/pytips/blob/master/Tips/2016-03-11-Arguments-and-Unpacking.ipynb)中提到的一样，`format()` 中也可以直接使用解包操作："
   ]
  },
  {
   "cell_type": "code",
   "execution_count": 3,
   "metadata": {
    "collapsed": false
   },
   "outputs": [
    {
     "name": "stdout",
     "output_type": "stream",
     "text": [
      "Python.py\n",
      "Python Rocks\n"
     ]
    }
   ],
   "source": [
    "print(\"{lang}.{suffix}\".format(**{\"lang\": \"Python\", \"suffix\": \"py\"}))\n",
    "print(\"{} {}\".format(*[\"Python\", \"Rocks\"]))"
   ]
  },
  {
   "cell_type": "markdown",
   "metadata": {},
   "source": [
    "在模板中还可以通过 `.identifier` 和 `[key]` 的方式获取变量内的属性或值（需要注意的是 `\"{}{}\"` 相当于 `\"{0}{1}\"`）："
   ]
  },
  {
   "cell_type": "code",
   "execution_count": 4,
   "metadata": {
    "collapsed": false
   },
   "outputs": [
    {
     "name": "stdout",
     "output_type": "stream",
     "text": [
      "Name: Python, Score: 100\n",
      "Python vs Ruby\n",
      "\n",
      "====\n",
      "Help(format):\n",
      " S.format(*args, **kwargs) -> str\n",
      "\n",
      "Return a formatted version of S, using substitutions from args and kwargs.\n",
      "The substitutions are identified by braces ('{' and '}').\n"
     ]
    }
   ],
   "source": [
    "data = {'name': 'Python', 'score': 100}\n",
    "print(\"Name: {0[name]}, Score: {0[score]}\".format(data)) # 不需要引号\n",
    "\n",
    "langs = [\"Python\", \"Ruby\"]\n",
    "print(\"{0[0]} vs {0[1]}\".format(langs))\n",
    "\n",
    "print(\"\\n====\\nHelp(format):\\n {.__doc__}\".format(str.format))"
   ]
  },
  {
   "cell_type": "markdown",
   "metadata": {},
   "source": [
    "### 强制转换\n",
    "\n",
    "可以通过 `!` + `r|s|a` 的方式对替换的变量进行强制转换：\n",
    "\n",
    "1. `\"{!r}\"` 对变量调用 `repr()`\n",
    "2. `\"{!s}\"` 对变量调用 `str()`\n",
    "3. `\"{!a}\"` 对变量调用 `ascii()`"
   ]
  },
  {
   "cell_type": "markdown",
   "metadata": {},
   "source": [
    "### 格式\n",
    "\n",
    "最后 `:` 之后的部分定义输出的样式：\n",
    "\n",
    "![format_spec.jpg](http://7xiijd.com1.z0.glb.clouddn.com/format_spec.jpg)"
   ]
  },
  {
   "cell_type": "markdown",
   "metadata": {},
   "source": [
    "`align` 代表对齐方向，通常要配合 `width` 使用，而 `fill` 则是填充的字符（默认为空白）："
   ]
  },
  {
   "cell_type": "code",
   "execution_count": 5,
   "metadata": {
    "collapsed": false
   },
   "outputs": [
    {
     "name": "stdout",
     "output_type": "stream",
     "text": [
      "left<<<<<<<<<<<<\n",
      "^^^^^center^^^^^\n",
      ">>>>>>>>>>>right\n",
      "0000000100\n"
     ]
    }
   ],
   "source": [
    "for align, text in zip(\"<^>\", [\"left\", \"center\", \"right\"]):\n",
    "    print(\"{:{fill}{align}16}\".format(text, fill=align, align=align))\n",
    "    \n",
    "print(\"{:0=10}\".format(100)) # = 只允许数字"
   ]
  },
  {
   "cell_type": "markdown",
   "metadata": {},
   "source": [
    "同时可以看出，样式设置里面可以嵌套 `{}` ，但是必须通过 keyword 指定，且只能嵌套一层。\n",
    "\n",
    "接下来是符号样式：`+|-|' '` 分别指定数字是否需要强制符号（其中空格是指在正数的时候不显示 `+` 但保留一位空格）："
   ]
  },
  {
   "cell_type": "code",
   "execution_count": 6,
   "metadata": {
    "collapsed": false
   },
   "outputs": [
    {
     "name": "stdout",
     "output_type": "stream",
     "text": [
      "+3.14\n",
      "-3.14\n",
      " 3.14\n"
     ]
    }
   ],
   "source": [
    "print(\"{0:+}\\n{1:-}\\n{0: }\".format(3.14, -3.14))"
   ]
  },
  {
   "cell_type": "markdown",
   "metadata": {},
   "source": [
    "`#` 用于表示特殊格式的数字（二进制、十六进制等）是否需要前缀符号；`,` 也是用于表示数字时是否需要在千位处进行分隔；`0` 相当于前面的 `{:0=}` 右对齐并用 `0` 补充空位："
   ]
  },
  {
   "cell_type": "code",
   "execution_count": 7,
   "metadata": {
    "collapsed": false
   },
   "outputs": [
    {
     "name": "stdout",
     "output_type": "stream",
     "text": [
      "Binary: 11 => 0b11\n",
      "Large Number: 1250000.0 => 1,250,000.0\n",
      "Padding:                3 => 0000000000000003\n"
     ]
    }
   ],
   "source": [
    "print(\"Binary: {0:b} => {0:#b}\".format(3))\n",
    "\n",
    "print(\"Large Number: {0:} => {0:,}\".format(1.25e6))\n",
    "\n",
    "print(\"Padding: {0:16} => {0:016}\".format(3))"
   ]
  },
  {
   "cell_type": "markdown",
   "metadata": {},
   "source": [
    "最后两个就是我们熟悉的小数点精度 `.n` 和格式化类型了，这里仅给出一些示例，详细内容可以查阅[文档](https://docs.python.org/3/library/string.html#formatexamples)："
   ]
  },
  {
   "cell_type": "code",
   "execution_count": 8,
   "metadata": {
    "collapsed": false
   },
   "outputs": [
    {
     "name": "stdout",
     "output_type": "stream",
     "text": [
      "pi = 3.1, also = 3.141593\n"
     ]
    }
   ],
   "source": [
    "from math import pi\n",
    "print(\"pi = {pi:.2}, also = {pi:.7}\".format(pi=pi))"
   ]
  },
  {
   "cell_type": "markdown",
   "metadata": {},
   "source": [
    "**Integer**"
   ]
  },
  {
   "cell_type": "code",
   "execution_count": 9,
   "metadata": {
    "collapsed": false
   },
   "outputs": [
    {
     "name": "stdout",
     "output_type": "stream",
     "text": [
      "Type  b of 97 shows: 1100001\n",
      "Type  c of 97 shows: a\n",
      "Type  d of 97 shows: 97\n",
      "Type #o of 97 shows: 0o141\n",
      "Type #x of 97 shows: 0x61\n",
      "Type #X of 97 shows: 0X61\n",
      "Type  n of 97 shows: 97\n"
     ]
    }
   ],
   "source": [
    "for t in \"b c d #o #x #X n\".split():\n",
    "    print(\"Type {0:>2} of {1} shows: {1:{t}}\".format(t, 97, t=t))"
   ]
  },
  {
   "cell_type": "markdown",
   "metadata": {},
   "source": [
    "**Float**"
   ]
  },
  {
   "cell_type": "code",
   "execution_count": 10,
   "metadata": {
    "collapsed": false
   },
   "outputs": [
    {
     "name": "stdout",
     "output_type": "stream",
     "text": [
      "Type e shows: 1.23e+04\n",
      "Type E shows: 1.23E+04\n",
      "Type f shows: 1.30\n",
      "Type F shows: 1.30\n",
      "Type g shows: 1\n",
      "Type G shows: 2\n",
      "Type n shows: 3.1\n",
      "Type % shows: 98.50%\n"
     ]
    }
   ],
   "source": [
    "for t, n in zip(\"eEfFgGn%\", [12345, 12345, 1.3, 1.3, 1, 2, 3.14, 0.985]):\n",
    "    print(\"Type {} shows: {:.2{t}}\".format(t, n, t=t))"
   ]
  },
  {
   "cell_type": "markdown",
   "metadata": {},
   "source": [
    "**String (default)**"
   ]
  },
  {
   "cell_type": "code",
   "execution_count": 11,
   "metadata": {
    "collapsed": false
   },
   "outputs": [
    {
     "name": "stdout",
     "output_type": "stream",
     "text": [
      "456\n"
     ]
    }
   ],
   "source": [
    "try:\n",
    "    print(\"{:s}\".format(123))\n",
    "except:\n",
    "    print(\"{}\".format(456))"
   ]
  }
 ],
 "metadata": {
  "kernelspec": {
   "display_name": "Python 3",
   "language": "python",
   "name": "python3"
  },
  "language_info": {
   "codemirror_mode": {
    "name": "ipython",
    "version": 3
   },
   "file_extension": ".py",
   "mimetype": "text/x-python",
   "name": "python",
   "nbconvert_exporter": "python",
   "pygments_lexer": "ipython3",
   "version": "3.5.0"
  }
 },
 "nbformat": 4,
 "nbformat_minor": 0
}
