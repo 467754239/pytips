{
 "cells": [
  {
   "cell_type": "markdown",
   "metadata": {},
   "source": [
    "## Python 修饰器与 `functools`\n",
    "\n",
    "Python 的修饰器是一种语法糖（Syntactic Sugar），也就是说：\n",
    "\n",
    "```python\n",
    "@decorator\n",
    "@wrap\n",
    "def func():\n",
    "    pass\n",
    "```\n",
    "\n",
    "是下面语法的一种简写：\n",
    "\n",
    "```python\n",
    "def func():\n",
    "    pass\n",
    "func = decorator(wrap(func))\n",
    "```\n",
    "\n",
    "关于修饰器的两个主要问题：\n",
    "\n",
    "1. 修饰器用来修饰谁\n",
    "2. 谁可以作为修饰器\n",
    "\n",
    "### 修饰函数\n",
    "\n",
    "修饰器最常见的用法是修饰新定义的函数，在 [0x0d 上下文管理器](https://github.com/rainyear/pytips/blob/master/Tips/2016-03-23-With-Context-Manager.ipynb)中提到上下文管理器主要是为了**更优雅地完成善后工作**，而修饰器通常用于扩展函数的行为或属性："
   ]
  },
  {
   "cell_type": "code",
   "execution_count": 1,
   "metadata": {
    "collapsed": false
   },
   "outputs": [
    {
     "name": "stdout",
     "output_type": "stream",
     "text": [
      "INFO: Starting run\n",
      "Running run...\n",
      "INFO: Finishing run\n"
     ]
    }
   ],
   "source": [
    "def log(func):\n",
    "    def wraper():\n",
    "        print(\"INFO: Starting {}\".format(func.__name__))\n",
    "        func()\n",
    "        print(\"INFO: Finishing {}\".format(func.__name__))\n",
    "    return wraper\n",
    "\n",
    "@log\n",
    "def run():\n",
    "    print(\"Running run...\")\n",
    "run()"
   ]
  },
  {
   "cell_type": "markdown",
   "metadata": {},
   "source": [
    "### 修饰类\n",
    "\n",
    "除了修饰函数之外，Python 3.0 之后增加了对新定义类的修饰（[PEP 3129](https://www.python.org/dev/peps/pep-3129/)），但是对于类别属性的修改可以通过 [`Metaclasses`](https://www.python.org/doc/essays/metaclasses/) 或继承来实现，而新增加的类别修饰器更多是出于 [Jython](https://mail.python.org/pipermail/python-dev/2006-March/062942.html) 以及 [IronPython](http://lists.ironpython.com/pipermail/users-ironpython.com/2006-March/002007.html) 的考虑，但其语法还是很一致的："
   ]
  },
  {
   "cell_type": "code",
   "execution_count": 2,
   "metadata": {
    "collapsed": false
   },
   "outputs": [
    {
     "name": "stdout",
     "output_type": "stream",
     "text": [
      "Hello\n",
      "Obj\n",
      "Cost 3.005s to init.\n"
     ]
    }
   ],
   "source": [
    "from time import sleep, time\n",
    "def timer(Cls):\n",
    "    def wraper():\n",
    "        s = time()\n",
    "        obj = Cls()\n",
    "        e = time()\n",
    "        print(\"Cost {:.3f}s to init.\".format(e - s))\n",
    "        return obj\n",
    "    return wraper\n",
    "@timer\n",
    "class Obj:\n",
    "    def __init__(self):\n",
    "        print(\"Hello\")\n",
    "        sleep(3)\n",
    "        print(\"Obj\")\n",
    "o = Obj()"
   ]
  },
  {
   "cell_type": "markdown",
   "metadata": {},
   "source": [
    "### 类作为修饰器\n",
    "\n",
    "上面两个例子都是以函数作为修饰器，因为函数才可以被调用（callable） `decorator(wrap(func))`。除了函数之外，我们也可以定义可被调用的类，只要添加 `__call__` 方法即可："
   ]
  },
  {
   "cell_type": "code",
   "execution_count": 3,
   "metadata": {
    "collapsed": false
   },
   "outputs": [
    {
     "name": "stdout",
     "output_type": "stream",
     "text": [
      "LOG: Baking Tag <html>!\n",
      "LOG: Baking Tag <body>!\n",
      "LOG: Baking Tag <div>!\n",
      "<html><body><div>Hello</div></body></html>\n"
     ]
    }
   ],
   "source": [
    "class HTML(object):\n",
    "    \"\"\"\n",
    "        Baking HTML Tags!\n",
    "    \"\"\"\n",
    "    def __init__(self, tag=\"p\"):\n",
    "        print(\"LOG: Baking Tag <{}>!\".format(tag))\n",
    "        self.tag = tag\n",
    "    def __call__(self, func):\n",
    "        return lambda: \"<{0}>{1}</{0}>\".format(self.tag, func(), self.tag)\n",
    "\n",
    "@HTML(\"html\")\n",
    "@HTML(\"body\")\n",
    "@HTML(\"div\")\n",
    "def body():\n",
    "    return \"Hello\"\n",
    "\n",
    "print(body())"
   ]
  },
  {
   "cell_type": "markdown",
   "metadata": {},
   "source": [
    "### 传递参数\n",
    "\n",
    "在实际使用过程中，我们可能需要向修饰器传递参数，也有可能需要向被修饰的函数（或类）传递参数。按照语法约定，只要修饰器 `@decorator` 中的 `decorator` 是可调用即可，`decorator(123)` 如果返回一个新的可调用函数，那么也是合理的，上面的 `@HTML('html')` 即是一例，下面再以 [flask](https://github.com/mitsuhiko/flask/blob/master/flask%2Fapp.py) 的路由修饰器为例说明如何传递参数给修饰器："
   ]
  },
  {
   "cell_type": "code",
   "execution_count": 4,
   "metadata": {
    "collapsed": false
   },
   "outputs": [
    {
     "name": "stdout",
     "output_type": "stream",
     "text": [
      "Hello world!\n",
      "Welcome Home!\n",
      "{'/': <function index at 0x10706f730>, '/home': <function home at 0x10706f8c8>}\n"
     ]
    }
   ],
   "source": [
    "RULES = {}\n",
    "def route(rule):\n",
    "    def decorator(hand):\n",
    "        RULES.update({rule: hand})\n",
    "        return hand\n",
    "    return decorator\n",
    "@route(\"/\")\n",
    "def index():\n",
    "    print(\"Hello world!\")\n",
    "\n",
    "def home():\n",
    "    print(\"Welcome Home!\")\n",
    "home = route(\"/home\")(home)\n",
    "\n",
    "index()\n",
    "home()\n",
    "print(RULES)"
   ]
  },
  {
   "cell_type": "markdown",
   "metadata": {},
   "source": [
    "向被修饰的函数传递参数，要看我们的修饰器是如何作用的，如果像上面这个例子一样未执行被修饰函数只是将其原模原样地返回，则不需要任何处理（这就把函数当做普通的值一样看待即可）："
   ]
  },
  {
   "cell_type": "code",
   "execution_count": 5,
   "metadata": {
    "collapsed": false
   },
   "outputs": [
    {
     "name": "stdout",
     "output_type": "stream",
     "text": [
      "DB.findOne({hail, python})\n"
     ]
    }
   ],
   "source": [
    "@route(\"/login\")\n",
    "def login(user = \"user\", pwd = \"pwd\"):\n",
    "    print(\"DB.findOne({{{}, {}}})\".format(user, pwd))\n",
    "login(\"hail\", \"python\")"
   ]
  },
  {
   "cell_type": "markdown",
   "metadata": {},
   "source": [
    "如果需要在修饰器内执行，则需要稍微变动一下："
   ]
  },
  {
   "cell_type": "code",
   "execution_count": 6,
   "metadata": {
    "collapsed": false
   },
   "outputs": [
    {
     "name": "stdout",
     "output_type": "stream",
     "text": [
      "INFO: Start Logging\n",
      "Hello Python\n",
      "INFO: Finish Logging\n"
     ]
    }
   ],
   "source": [
    "def log(f):\n",
    "    def wraper(*args, **kargs):\n",
    "        print(\"INFO: Start Logging\")\n",
    "        f(*args, **kargs)\n",
    "        print(\"INFO: Finish Logging\")\n",
    "    return wraper\n",
    "\n",
    "@log\n",
    "def run(hello = \"world\"):\n",
    "    print(\"Hello {}\".format(hello))\n",
    "run(\"Python\")"
   ]
  },
  {
   "cell_type": "markdown",
   "metadata": {},
   "source": [
    "### functools\n",
    "\n",
    "由于修饰器将函数（或类）进行包装之后重新返回：`func = decorator(func)`，那么有可能改变原本函数（或类）的一些信息，以上面的 `HTML` 修饰器为例："
   ]
  },
  {
   "cell_type": "code",
   "execution_count": 7,
   "metadata": {
    "collapsed": false
   },
   "outputs": [
    {
     "name": "stdout",
     "output_type": "stream",
     "text": [
      "LOG: Baking Tag <body>!\n",
      "<lambda>\n",
      "None\n"
     ]
    }
   ],
   "source": [
    "@HTML(\"body\")\n",
    "def body():\n",
    "    \"\"\"\n",
    "        return body content\n",
    "    \"\"\"\n",
    "    return \"Hello, body!\"\n",
    "print(body.__name__)\n",
    "print(body.__doc__)"
   ]
  },
  {
   "cell_type": "markdown",
   "metadata": {},
   "source": [
    "因为 `body = HTML(\"body\")(body)` ，而 `HTML(\"body\").__call__()` 返回的是一个 `lambda` 函数，因此 `body` 已经被替换成了 `lambda`，虽然都是可执行的函数，但原来定义的 `body` 中的一些属性，例如 `__doc__`/`__name__`/`__module__` 都被替换了（在本例中`__module__`没变因为都在同一个文件中）。为了解决这一问题 Python 提供了 [`functools`](https://docs.python.org/3.5/library/functools.html) 标准库，其中包括了 `update_wrapper` 和 `wraps` 两个方法（[源码](https://hg.python.org/cpython/file/3.5/Lib/functools.py)）。其中 `update_wrapper` 就是用来将原来函数的信息赋值给修饰器中返回的函数："
   ]
  },
  {
   "cell_type": "code",
   "execution_count": 8,
   "metadata": {
    "collapsed": false
   },
   "outputs": [
    {
     "name": "stdout",
     "output_type": "stream",
     "text": [
      "LOG: Baking Tag <body>!\n",
      "body\n",
      "\n",
      "        return body content!\n",
      "    \n"
     ]
    }
   ],
   "source": [
    "from functools import update_wrapper\n",
    "\"\"\"\n",
    "functools.update_wrapper(wrapper, wrapped[, assigned][, updated])\n",
    "\"\"\"\n",
    "\n",
    "\n",
    "class HTML(object):\n",
    "    \"\"\"\n",
    "        Baking HTML Tags!\n",
    "    \"\"\"\n",
    "    def __init__(self, tag=\"p\"):\n",
    "        print(\"LOG: Baking Tag <{}>!\".format(tag))\n",
    "        self.tag = tag\n",
    "    def __call__(self, func):\n",
    "        wraper = lambda: \"<{0}>{1}</{0}>\".format(self.tag, func(), self.tag)\n",
    "        update_wrapper(wraper, func)\n",
    "        return wraper\n",
    "@HTML(\"body\")\n",
    "def body():\n",
    "    \"\"\"\n",
    "        return body content!\n",
    "    \"\"\"\n",
    "    return \"Hello, body!\"\n",
    "print(body.__name__)\n",
    "print(body.__doc__)"
   ]
  },
  {
   "cell_type": "markdown",
   "metadata": {},
   "source": [
    "有趣的是 `update_wrapper` 的用法本身就很像是修饰器，因此 `functools.wraps` 就利用 `functools.partial`（还记得函数式编程中的偏应用吧！）将其变成一个修饰器："
   ]
  },
  {
   "cell_type": "code",
   "execution_count": 9,
   "metadata": {
    "collapsed": false
   },
   "outputs": [
    {
     "name": "stdout",
     "output_type": "stream",
     "text": [
      "run\n",
      "\n",
      "    Docs' of run\n",
      "    \n"
     ]
    }
   ],
   "source": [
    "from functools import update_wrapper, partial\n",
    "\n",
    "def my_wraps(wrapped):\n",
    "    return partial(update_wrapper, wrapped=wrapped)\n",
    "\n",
    "def log(func):\n",
    "    @my_wraps(func)\n",
    "    def wraper():\n",
    "        print(\"INFO: Starting {}\".format(func.__name__))\n",
    "        func()\n",
    "        print(\"INFO: Finishing {}\".format(func.__name__))\n",
    "    return wraper\n",
    "\n",
    "@log\n",
    "def run():\n",
    "    \"\"\"\n",
    "    Docs' of run\n",
    "    \"\"\"\n",
    "    print(\"Running run...\")\n",
    "print(run.__name__)\n",
    "print(run.__doc__)"
   ]
  },
  {
   "cell_type": "markdown",
   "metadata": {},
   "source": [
    "### 参考\n",
    "\n",
    "1. [Python修饰器的函数式编程](http://coolshell.cn/articles/11265.html)"
   ]
  }
 ],
 "metadata": {
  "kernelspec": {
   "display_name": "Python 3",
   "language": "python",
   "name": "python3"
  },
  "language_info": {
   "codemirror_mode": {
    "name": "ipython",
    "version": 3
   },
   "file_extension": ".py",
   "mimetype": "text/x-python",
   "name": "python",
   "nbconvert_exporter": "python",
   "pygments_lexer": "ipython3",
   "version": "3.5.0"
  }
 },
 "nbformat": 4,
 "nbformat_minor": 0
}
