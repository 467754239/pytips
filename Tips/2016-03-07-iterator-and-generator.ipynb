{
 "cells": [
  {
   "cell_type": "markdown",
   "metadata": {},
   "source": [
    "### 迭代器与生成器\n",
    "\n",
    "迭代器（iterator）与生成器（generator）是 Python 中比较常用又很容易混淆的两个概念，今天就把它们梳理一遍，并举一些常用的例子。\n",
    "\n",
    "**`for` 语句与可迭代对象（iterable object）：**"
   ]
  },
  {
   "cell_type": "code",
   "execution_count": 1,
   "metadata": {
    "collapsed": false
   },
   "outputs": [
    {
     "name": "stdout",
     "output_type": "stream",
     "text": [
      "1\n",
      "2\n",
      "3\n"
     ]
    }
   ],
   "source": [
    "for i in [1, 2, 3]:\n",
    "    print(i)"
   ]
  },
  {
   "cell_type": "code",
   "execution_count": 2,
   "metadata": {
    "collapsed": false
   },
   "outputs": [
    {
     "name": "stdout",
     "output_type": "stream",
     "text": [
      "b\n",
      "a\n"
     ]
    }
   ],
   "source": [
    "obj = {\"a\": 123, \"b\": 456}\n",
    "for k in obj:\n",
    "    print(k)"
   ]
  },
  {
   "cell_type": "markdown",
   "metadata": {},
   "source": [
    "这些可以用在 `for` 语句进行循环的对象就是**可迭代对象**。除了内置的数据类型（列表、元组、字符串、字典等）可以通过 `for` 语句进行迭代，我们也可以自己创建一个容器，包含一系列元素，可以通过 `for` 语句依次循环取出每一个元素，这种容器就是**迭代器（iterator）**。除了用 `for` 遍历，迭代器还可以通过 `next()` 方法逐一读取下一个元素。要创建一个迭代器有3种方法，其中前两种分别是：\n",
    "\n",
    "1. 为容器对象添加 `__iter__()` 和 `__next__()` 方法（Python 2.7 中是 `next()`）；`__iter__()` 返回迭代器对象本身 `self`，`__next__()` 则返回每次调用 `next()` 或迭代时的元素；\n",
    "2. 内置函数 `iter()` 将可迭代对象转化为迭代器"
   ]
  },
  {
   "cell_type": "code",
   "execution_count": 14,
   "metadata": {
    "collapsed": false
   },
   "outputs": [
    {
     "name": "stdout",
     "output_type": "stream",
     "text": [
      "<class 'list_iterator'>\n",
      "1\n",
      "2\n",
      "3\n",
      "[LOG] I made this iterator!\n",
      "[LOG] Calling __next__ method!\n",
      "0\n",
      "[LOG] Calling __next__ method!\n",
      "1\n",
      "[LOG] Calling __next__ method!\n",
      "2\n",
      "[LOG] Calling __next__ method!\n",
      "3\n",
      "[LOG] Calling __next__ method!\n",
      "4\n",
      "[LOG] Calling __next__ method!\n"
     ]
    }
   ],
   "source": [
    "# iter(IterableObject)\n",
    "ita = iter([1, 2, 3])\n",
    "print(type(ita))\n",
    "\n",
    "print(next(ita))\n",
    "print(next(ita))\n",
    "print(next(ita))\n",
    "\n",
    "# Create iterator Object\n",
    "class Container:\n",
    "    def __init__(self, start = 0, end = 0):\n",
    "        self.start = start\n",
    "        self.end = end\n",
    "    def __iter__(self):\n",
    "        print(\"[LOG] I made this iterator!\")\n",
    "        return self\n",
    "    def __next__(self):\n",
    "        print(\"[LOG] Calling __next__ method!\")\n",
    "        if self.start < self.end:\n",
    "            i = self.start\n",
    "            self.start += 1\n",
    "            return i\n",
    "        else:\n",
    "            raise StopIteration()\n",
    "c = Container(0, 5)\n",
    "for i in c:\n",
    "    print(i)\n",
    "        "
   ]
  },
  {
   "cell_type": "markdown",
   "metadata": {},
   "source": [
    "创建迭代器对象的好处是当序列长度很大时，可以减少内存消耗，因为每次只需要记录一个值即刻（经常看到人们介绍 Python 2.7 的 `range` 函数时，建议当长度太大时用 `xrange` 更快，在 Python 3.5 中已经去除了 `xrange` 只有一个类似迭代器一样的 `range`）。\n",
    "\n",
    "#### 生成器\n",
    "\n",
    "前面说到创建迭代器有3种方法，其中第三种就是**生成器（generator）**。生成器通过 `yield` 语句快速生成迭代器，省略了复杂的 `__iter__()` & `__next__()` 方式："
   ]
  },
  {
   "cell_type": "code",
   "execution_count": 24,
   "metadata": {
    "collapsed": false
   },
   "outputs": [
    {
     "name": "stdout",
     "output_type": "stream",
     "text": [
      "<class 'generator'>\n",
      "0\n",
      "2\n",
      "3\n",
      "4\n"
     ]
    }
   ],
   "source": [
    "def container(start, end):\n",
    "    while start < end:\n",
    "        yield start\n",
    "        start += 1\n",
    "c = container(0, 5)\n",
    "print(type(c))\n",
    "print(next(c))\n",
    "next(c)\n",
    "for i in c:\n",
    "    print(i)"
   ]
  },
  {
   "cell_type": "markdown",
   "metadata": {},
   "source": [
    "简单来说，`yield` 语句可以让普通函数变成一个生成器，并且相应的 `__next__()` 方法返回的是 `yield` 后面的值。一种更直观的解释是：程序执行到 `yield` 会返回值并暂停，再次调用 `next()` 时会从上次暂停的地方继续开始执行："
   ]
  },
  {
   "cell_type": "code",
   "execution_count": 26,
   "metadata": {
    "collapsed": false
   },
   "outputs": [
    {
     "name": "stdout",
     "output_type": "stream",
     "text": [
      "5\n",
      "Hello\n",
      "World\n",
      "4\n"
     ]
    }
   ],
   "source": [
    "def gen():\n",
    "    yield 5\n",
    "    yield \"Hello\"\n",
    "    yield \"World\"\n",
    "    yield 4\n",
    "for i in gen():\n",
    "    print(i)"
   ]
  },
  {
   "cell_type": "markdown",
   "metadata": {},
   "source": [
    "Python 3.5 （准确地说应该是 3.3 以后）中为生成器添加了更多特性，包括 `yield from` 以及在暂停的地方传值回生成器的 `send()`等，为了保持简洁这里就不深入介绍了，有兴趣可以阅读[官方文档](https://docs.python.org/3/reference/expressions.html#yieldexpr)说明以及参考链接2。"
   ]
  },
  {
   "cell_type": "markdown",
   "metadata": {},
   "source": [
    "#### 参考\n",
    "\n",
    "1. [Iterators & Generators](http://anandology.com/python-practice-book/iterators.html)\n",
    "2. [How the heck does async/await work in Python 3.5?](http://www.snarky.ca/how-the-heck-does-async-await-work-in-python-3-5)\n",
    "3. [Python's yield from](http://charlesleifer.com/blog/python-s-yield-from/)"
   ]
  }
 ],
 "metadata": {
  "kernelspec": {
   "display_name": "Python 3",
   "language": "python",
   "name": "python3"
  },
  "language_info": {
   "codemirror_mode": {
    "name": "ipython",
    "version": 3
   },
   "file_extension": ".py",
   "mimetype": "text/x-python",
   "name": "python",
   "nbconvert_exporter": "python",
   "pygments_lexer": "ipython3",
   "version": "3.5.0"
  }
 },
 "nbformat": 4,
 "nbformat_minor": 0
}
