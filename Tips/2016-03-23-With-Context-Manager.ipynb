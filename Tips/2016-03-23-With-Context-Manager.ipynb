{
 "cells": [
  {
   "cell_type": "markdown",
   "metadata": {},
   "source": [
    "## Python 上下文管理器\n",
    "\n",
    "Python 2.5 引入了 `with` 语句（[PEP 343](https://www.python.org/dev/peps/pep-0343/)）与上下文管理器类型（[Context Manager Types](https://docs.python.org/3/library/stdtypes.html#context-manager-types)），其主要作用包括：\n",
    "\n",
    "> 保存、重置各种全局状态，锁住或解锁资源，关闭打开的文件等。[With Statement Context Managers](https://docs.python.org/3/reference/datamodel.html#with-statement-context-managers)\n",
    "\n",
    "一种最普遍的用法是对文件的操作："
   ]
  },
  {
   "cell_type": "code",
   "execution_count": 1,
   "metadata": {
    "collapsed": false
   },
   "outputs": [
    {
     "name": "stdout",
     "output_type": "stream",
     "text": [
      "你好，世界！\n",
      "\n"
     ]
    }
   ],
   "source": [
    "with open(\"utf8.txt\", \"r\") as f:\n",
    "    print(f.read())"
   ]
  },
  {
   "cell_type": "markdown",
   "metadata": {},
   "source": [
    "上面的例子也可以用 `try...finally...` 实现，它们的效果是相同（或者说上下文管理器就是封装、简化了错误捕捉的过程）："
   ]
  },
  {
   "cell_type": "code",
   "execution_count": 2,
   "metadata": {
    "collapsed": false
   },
   "outputs": [
    {
     "name": "stdout",
     "output_type": "stream",
     "text": [
      "你好，世界！\n",
      "\n"
     ]
    }
   ],
   "source": [
    "try:\n",
    "    f = open(\"utf8.txt\", \"r\")\n",
    "    print(f.read())\n",
    "finally:\n",
    "    f.close()"
   ]
  },
  {
   "cell_type": "markdown",
   "metadata": {},
   "source": [
    "除了文件对象之外，我们也可以自己创建上下文管理器，与 [0x01](https://github.com/rainyear/pytips/blob/master/Tips/2016-03-07-iterator-and-generator.ipynb) 中介绍的迭代器类似，只要定义了 `__enter__()` 和 `__exit__()` 方法就成为了上下文管理器类型。`with` 语句的执行过程如下：\n",
    "\n",
    "1. 执行 `with` 后的语句获取上下文管理器，例如 `open('utf8.txt', 'r')` 就是返回一个 `file object`；\n",
    "2. 加载 `__exit__()` 方法备用；\n",
    "3. 执行 `__enter__()`，该方法的返回值将传递给 `as` 后的变量（如果有的话）；\n",
    "4. 执行 `with` 语法块的子句；\n",
    "5. 执行 `__exit__()` 方法，如果 `with` 语法块子句中出现异常，将会传递 `type, value, traceback` 给 `__exit__()`，否则将默认为 `None`；如果 `__exit__()` 方法返回 `False`，将会抛出异常给外层处理；如果返回 `True`，则忽略异常。"
   ]
  },
  {
   "cell_type": "markdown",
   "metadata": {},
   "source": [
    "了解了 `with` 语句的执行过程，我们可以编写自己的上下文管理器。假设我们需要一个引用计数器，而出于某些特殊的原因需要多个计数器共享全局状态并且可以相互影响，而且在计数器使用完毕之后需要恢复初始的全局状态："
   ]
  },
  {
   "cell_type": "code",
   "execution_count": 3,
   "metadata": {
    "collapsed": false
   },
   "outputs": [
    {
     "name": "stdout",
     "output_type": "stream",
     "text": [
      "COUNTER #ref1: 98\n",
      "COUNTER #ref2: 100\n",
      "COUNTER #ref1: 99\n",
      "COUNTER #ref2: 101\n",
      "COUNTER #ref1: 100\n",
      "COUNTER #ref2: 102\n",
      "{'user': 'admin', 'counter': 99}\n"
     ]
    }
   ],
   "source": [
    "_G = {\"counter\": 99, \"user\": \"admin\"}\n",
    "\n",
    "class Refs():\n",
    "    def __init__(self, name = None):\n",
    "        self.name = name\n",
    "        self._G = _G\n",
    "        self.init = self._G['counter']\n",
    "    def __enter__(self):\n",
    "        return self\n",
    "    def __exit__(self, *args):\n",
    "        self._G[\"counter\"] = self.init\n",
    "        return False\n",
    "    def acc(self, n = 1):\n",
    "        self._G[\"counter\"] += n\n",
    "    def dec(self, n = 1):\n",
    "        self._G[\"counter\"] -= n\n",
    "    def __str__(self):\n",
    "        return \"COUNTER #{name}: {counter}\".format(**self._G, name=self.name)\n",
    "        \n",
    "with Refs(\"ref1\") as ref1, Refs(\"ref2\") as ref2: # Python 3.1 加入了多个并列上下文管理器\n",
    "    for _ in range(3):\n",
    "        ref1.dec()\n",
    "        print(ref1)\n",
    "        ref2.acc(2)\n",
    "        print(ref2)\n",
    "print(_G)"
   ]
  },
  {
   "cell_type": "markdown",
   "metadata": {},
   "source": [
    "上面的例子很别扭但是可以很好地说明 `with` 语句的执行顺序，只是每次定义两个方法看起来并不是很简洁，一如既往地，Python 提供了 `@contextlib.contextmanager` + `generator` 的方式来简化这一过程（正如 [0x01](https://github.com/rainyear/pytips/blob/master/Tips/2016-03-07-iterator-and-generator.ipynb) 中 `yield` 简化迭代器一样）："
   ]
  },
  {
   "cell_type": "code",
   "execution_count": 4,
   "metadata": {
    "collapsed": false
   },
   "outputs": [
    {
     "name": "stdout",
     "output_type": "stream",
     "text": [
      "COUNTER #ref1: 98\n",
      "COUNTER #ref2: 100\n",
      "COUNTER #ref1: 99\n",
      "COUNTER #ref2: 101\n",
      "COUNTER #ref1: 100\n",
      "COUNTER #ref2: 102\n",
      "********************\n",
      "{'user': 'admin', 'counter': 99}\n"
     ]
    }
   ],
   "source": [
    "from contextlib import contextmanager as cm\n",
    "_G = {\"counter\": 99, \"user\": \"admin\"}\n",
    "\n",
    "@cm\n",
    "def ref():\n",
    "    counter = _G[\"counter\"]\n",
    "    yield _G\n",
    "    _G[\"counter\"] = counter\n",
    "\n",
    "with ref() as r1, ref() as r2:\n",
    "    for _ in range(3):\n",
    "        r1[\"counter\"] -= 1\n",
    "        print(\"COUNTER #ref1: {}\".format(_G[\"counter\"]))\n",
    "        r2[\"counter\"] += 2\n",
    "        print(\"COUNTER #ref2: {}\".format(_G[\"counter\"]))\n",
    "print(\"*\"*20)\n",
    "print(_G)"
   ]
  },
  {
   "cell_type": "markdown",
   "metadata": {},
   "source": [
    "这里对生成器的要求是必须只能返回一个值（只有一次 `yield`），返回的值相当于 `__enter__()` 的返回值；而 `yield` 后的语句相当于 `__exit__()`。"
   ]
  },
  {
   "cell_type": "markdown",
   "metadata": {},
   "source": [
    "生成器的写法更简洁，适合快速生成一个简单的上下文管理器。\n",
    "\n",
    "除了上面两种方式，Python 3.2 中新增了 `contextlib.ContextDecorator`，可以允许我们自己在 `class` 层面定义新的”上下文管理修饰器“，有兴趣可以到[官方文档查看](https://docs.python.org/3/library/contextlib.html#contextlib.ContextDecorator)。至少在我目前看来好像并没有带来更多方便（除了可以省掉一层缩进之外:(）。\n",
    "\n",
    "上下文管理器的概念与修饰器有很多相似之处，但是要记住的是 `with` 语句的目的是为了更优雅地收拾残局而不是替代 `try...finally...`，毕竟在 [The Zen of Python](https://github.com/rainyear/pytips/blob/master/Tips/2016-03-06-The-Zen-of-Python.ipynb) 中，\n",
    "\n",
    "> Explicit is better than implicit.\n",
    "\n",
    "比\n",
    "\n",
    "> Simple is better than complex.\n",
    "\n",
    "更重要:P。"
   ]
  }
 ],
 "metadata": {
  "kernelspec": {
   "display_name": "Python 3",
   "language": "python",
   "name": "python3"
  },
  "language_info": {
   "codemirror_mode": {
    "name": "ipython",
    "version": 3
   },
   "file_extension": ".py",
   "mimetype": "text/x-python",
   "name": "python",
   "nbconvert_exporter": "python",
   "pygments_lexer": "ipython3",
   "version": "3.5.0"
  }
 },
 "nbformat": 4,
 "nbformat_minor": 0
}
