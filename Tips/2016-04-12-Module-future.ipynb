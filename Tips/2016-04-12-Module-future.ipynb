{
 "cells": [
  {
   "cell_type": "markdown",
   "metadata": {},
   "source": [
    "### Python `__future__` 模块\n",
    "\n",
    "我们经常从一些组织良好的 Python 项目中看到 `__future__` 的身影，例如："
   ]
  },
  {
   "cell_type": "code",
   "execution_count": 1,
   "metadata": {
    "collapsed": true
   },
   "outputs": [],
   "source": [
    "from __future__ import absolute_import, division"
   ]
  },
  {
   "cell_type": "markdown",
   "metadata": {},
   "source": [
    "`__future__` 模块由 [PEP 236](https://www.python.org/dev/peps/pep-0236/) 提出并加入到 Python 2.1，其存在的主要原因是 Python 的版本升级经常会增加一些新的特性，而 `__future__` 模块将一些新版本中将会增加的新的特性进行声明，同时使得旧版本可以使用这些新的语法特性。当然，如果你用的是 Python 2.1 以前的版本，是没办法使用 `__future__` 的。`__future__` 模块的导入一定要放在最上方，也就是在所有其它模块之前导入。\n",
    "\n",
    "根据 Python 3.5 中 `__future__` 的[源文件](https://hg.python.org/cpython/file/3.5/Lib/__future__.py)，一共包括下面几个新特性：\n",
    "\n",
    "![__future__](http://qncdn.rainy.im/__future__.png)"
   ]
  },
  {
   "cell_type": "markdown",
   "metadata": {},
   "source": [
    "表中第一列包含了所有可以从 `__future__` 中导入的特性，`optional in` 中的版本号为**最低可使用的版本**，`mandatory in` 中的版本号为**已经实现，无需从 `__future__` 导入** 的版本号。最后一列是每个新特性所对应的 PEP 及简单描述。下面主要看一下几个 3.0 之后添加的属性。\n",
    "\n",
    "**division**\n",
    "\n",
    "在 3.0 之前，除号 `/` 的用法都是整除，例如在 2.7 中，`8/7=1`，如果需要浮点数相除，需要显式使用浮点数类型：`8./7=1.1428571428571428`，如果是使用变量相除，则需要 `a*1.0/7`。而在 3.0 以后的版本，整除和浮点数相除分别使用 `//` 和 `/` 符号："
   ]
  },
  {
   "cell_type": "code",
   "execution_count": 2,
   "metadata": {
    "collapsed": false
   },
   "outputs": [
    {
     "name": "stdout",
     "output_type": "stream",
     "text": [
      "1\n",
      "1.1428571428571428\n"
     ]
    }
   ],
   "source": [
    "from __future__ import division\n",
    "print(8//7)\n",
    "print(8/7)"
   ]
  },
  {
   "cell_type": "markdown",
   "metadata": {},
   "source": [
    "**absolute_import**\n",
    "\n",
    "[PEP 328](https://www.python.org/dev/peps/pep-0328/) 主要添加了多行导入和绝对/相对导入的特性，可以使用括号而不是 `\\` 来进行多行导入。相对导入则可以使用 `.` 为标记导入相对目录中的模块，具体可以参考这篇文章：[Python导入模块的几种姿势](http://codingpy.com/article/python-import-101/)。"
   ]
  },
  {
   "cell_type": "code",
   "execution_count": 3,
   "metadata": {
    "collapsed": false
   },
   "outputs": [],
   "source": [
    "from __future__ import absolute_import\n",
    "\n",
    "from tkinter import (Tk, Frame, Button, Entry, Canvas, Text,\n",
    "    LEFT, DISABLED, NORMAL, RIDGE, END)"
   ]
  },
  {
   "cell_type": "markdown",
   "metadata": {},
   "source": [
    "**print_function**\n",
    "\n",
    "我们都知道 3.0 以后 `print` 变为函数而不再是声明语句，而是一个内置函数，并且可以接受除打印内容以外的参数：\n",
    "\n",
    "`print(*args, sep=' ', end='\\n', file=None)`"
   ]
  },
  {
   "cell_type": "code",
   "execution_count": 4,
   "metadata": {
    "collapsed": false
   },
   "outputs": [
    {
     "name": "stdout",
     "output_type": "stream",
     "text": [
      "Hello,World!"
     ]
    }
   ],
   "source": [
    "from __future__ import print_function\n",
    "print(\"Hello\", \"World\", sep=',', end='!')"
   ]
  },
  {
   "cell_type": "markdown",
   "metadata": {},
   "source": [
    "**generator_stop**\n",
    "\n",
    "在生成器内部使用 `raise StopIteration` 意味着生成器终止，但这样写会造成一些隐藏的 BUG（见 [PEP 479](https://www.python.org/dev/peps/pep-0479/)），新的特性要求杜绝这一用法并抛出 `RuntimeError`，若要终止生成器，请使用 `return`。"
   ]
  },
  {
   "cell_type": "code",
   "execution_count": 5,
   "metadata": {
    "collapsed": false
   },
   "outputs": [
    {
     "name": "stdout",
     "output_type": "stream",
     "text": [
      "0\n",
      "1\n",
      "generator raised StopIteration\n"
     ]
    }
   ],
   "source": [
    "from __future__ import generator_stop\n",
    "def gen(n):\n",
    "    i = 0\n",
    "    while i < n:\n",
    "        yield i\n",
    "        i += 1\n",
    "        if i % 2 == 0:\n",
    "            raise StopIteration\n",
    "            # use return\n",
    "        \n",
    "g = gen(3)\n",
    "print(next(g))\n",
    "print(next(g))\n",
    "try:\n",
    "    print(next(g))\n",
    "except RuntimeError as err:\n",
    "    print(err)"
   ]
  },
  {
   "cell_type": "markdown",
   "metadata": {},
   "source": [
    "### 彩蛋\n",
    "\n",
    "为了吸引更多 Java、C 等语言的用户，使他们更快适应 Python 代码缩进的语法同时又能兼容他们不可抑制地输入 `{}` 的冲动，`__future__` 还提供了 `braces` 特性，使花括号可以被正确解析！\n",
    "\n",
    "```py\n",
    "from __future__ import braces\n",
    "```"
   ]
  }
 ],
 "metadata": {
  "kernelspec": {
   "display_name": "Python 3",
   "language": "python",
   "name": "python3"
  },
  "language_info": {
   "codemirror_mode": {
    "name": "ipython",
    "version": 3
   },
   "file_extension": ".py",
   "mimetype": "text/x-python",
   "name": "python",
   "nbconvert_exporter": "python",
   "pygments_lexer": "ipython3",
   "version": "3.5.0"
  }
 },
 "nbformat": 4,
 "nbformat_minor": 0
}
